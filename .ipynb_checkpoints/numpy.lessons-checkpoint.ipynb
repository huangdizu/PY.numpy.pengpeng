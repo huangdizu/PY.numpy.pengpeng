{
 "cells": [
  {
   "cell_type": "code",
   "execution_count": 2,
   "id": "59e26532",
   "metadata": {},
   "outputs": [
    {
     "name": "stdout",
     "output_type": "stream",
     "text": [
      "加法 [ 4  5 16]\n",
      "乘法 [ 3  6 60]\n",
      "大於 [ True False  True]\n",
      "是否相等 [False False False]\n"
     ]
    }
   ],
   "source": [
    "#numpy.lesson3\n",
    "#載入numpy套件\n",
    "import numpy as np\n",
    "\n",
    "#逐元運算(elementwise) (兩個多元陣列應有相同shape)\n",
    "data1=np.array([3, 2, 10])\n",
    "data2=np.array([1, 3, 6])\n",
    "result=data1+data2\n",
    "print(\"加法\", result)\n",
    "result=data1*data2\n",
    "print(\"乘法\", result)\n",
    "result=data1>data2\n",
    "print(\"大於\", result)\n",
    "result=data1==data2\n",
    "print(\"是否相等\", result)\n",
    "print(\"----------\")\n",
    "\n",
    "#矩陣運算(matrix)\n",
    "data1=np.array([\n",
    "    [1, 3]\n",
    "]) #1*2\n",
    "data2=np.array([\n",
    "    [2, -1, 3],\n",
    "    [-2, 4, 1]\n",
    "]) #2*3\n",
    "result=data1.dot(data2) #1*3 (data1和data2的內積)\n",
    "#result=data1@data2 (結果同上，換個寫法)\n",
    "print(result)\n"
   ]
  },
  {
   "cell_type": "code",
   "execution_count": null,
   "id": "6d7084b6",
   "metadata": {},
   "outputs": [],
   "source": []
  }
 ],
 "metadata": {
  "kernelspec": {
   "display_name": "Python 3 (ipykernel)",
   "language": "python",
   "name": "python3"
  },
  "language_info": {
   "codemirror_mode": {
    "name": "ipython",
    "version": 3
   },
   "file_extension": ".py",
   "mimetype": "text/x-python",
   "name": "python",
   "nbconvert_exporter": "python",
   "pygments_lexer": "ipython3",
   "version": "3.9.12"
  }
 },
 "nbformat": 4,
 "nbformat_minor": 5
}
